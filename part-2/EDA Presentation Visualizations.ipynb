{
 "cells": [
  {
   "cell_type": "code",
   "execution_count": 1,
   "id": "bde9c7a5",
   "metadata": {},
   "outputs": [],
   "source": [
    "# import pandas and numpy\n",
    "import pandas as pd\n",
    "import numpy as np\n",
    "\n",
    "import seaborn as sns\n",
    "sns.set()\n",
    "\n",
    "\n",
    "import matplotlib.pyplot as plt\n",
    "%matplotlib inline"
   ]
  },
  {
   "cell_type": "code",
   "execution_count": 2,
   "id": "a44d9d53",
   "metadata": {},
   "outputs": [],
   "source": [
    "# load salary.csv into dataframe\n",
    "salary_df = pd.read_csv(\"salary.csv\")\n",
    "\n",
    "# load salary_numeric.csv into dataframe where education levels have been re-expressed as numeric\n",
    "salary_numeric_df=pd.read_csv('salary_numeric.csv')"
   ]
  },
  {
   "cell_type": "code",
   "execution_count": 4,
   "id": "e62d4a4f",
   "metadata": {},
   "outputs": [
    {
     "data": {
      "text/plain": [
       "Female    12730\n",
       "Male      12709\n",
       "Name: gender, dtype: int64"
      ]
     },
     "execution_count": 4,
     "metadata": {},
     "output_type": "execute_result"
    }
   ],
   "source": [
    "salary_df['gender'].value_counts()\n"
   ]
  },
  {
   "cell_type": "code",
   "execution_count": 5,
   "id": "2c731545",
   "metadata": {},
   "outputs": [
    {
     "name": "stdout",
     "output_type": "stream",
     "text": [
      "<class 'pandas.core.frame.DataFrame'>\n",
      "RangeIndex: 25439 entries, 0 to 25438\n",
      "Data columns (total 6 columns):\n",
      " #   Column               Non-Null Count  Dtype  \n",
      "---  ------               --------------  -----  \n",
      " 0   age                  25439 non-null  int64  \n",
      " 1   gender               25439 non-null  object \n",
      " 2   education            25439 non-null  object \n",
      " 3   industry             25439 non-null  object \n",
      " 4   industry_experience  25439 non-null  int64  \n",
      " 5   salary               25439 non-null  float64\n",
      "dtypes: float64(1), int64(2), object(3)\n",
      "memory usage: 1.2+ MB\n"
     ]
    }
   ],
   "source": [
    "salary_df.info()"
   ]
  },
  {
   "cell_type": "code",
   "execution_count": null,
   "id": "3f9d9a78",
   "metadata": {},
   "outputs": [],
   "source": []
  }
 ],
 "metadata": {
  "kernelspec": {
   "display_name": "Python 3 (ipykernel)",
   "language": "python",
   "name": "python3"
  },
  "language_info": {
   "codemirror_mode": {
    "name": "ipython",
    "version": 3
   },
   "file_extension": ".py",
   "mimetype": "text/x-python",
   "name": "python",
   "nbconvert_exporter": "python",
   "pygments_lexer": "ipython3",
   "version": "3.9.12"
  }
 },
 "nbformat": 4,
 "nbformat_minor": 5
}
